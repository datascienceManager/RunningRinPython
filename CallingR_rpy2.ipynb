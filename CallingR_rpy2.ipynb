{
 "cells": [
  {
   "cell_type": "code",
   "execution_count": 3,
   "metadata": {},
   "outputs": [],
   "source": [
    "\n",
    "\n",
    "# https://medium.com/analytics-vidhya/calling-r-from-python-magic-of-rpy2-d8cbbf991571"
   ]
  },
  {
   "cell_type": "code",
   "execution_count": 2,
   "metadata": {},
   "outputs": [
    {
     "name": "stdout",
     "output_type": "stream",
     "text": [
      "Collecting rpy2\n",
      "  Downloading rpy2-3.5.3.tar.gz (203 kB)\n",
      "  Using cached rpy2-3.5.2.tar.gz (202 kB)\n",
      "  Downloading rpy2-3.5.1.tar.gz (201 kB)\n",
      "  Downloading rpy2-3.5.0.tar.gz (201 kB)\n",
      "  Using cached rpy2-3.4.5.tar.gz (194 kB)\n",
      "Requirement already satisfied: cffi>=1.10.0 in c:\\users\\manjunath\\miniconda3\\envs\\azure_automl\\lib\\site-packages (from rpy2) (1.15.0)\n",
      "Requirement already satisfied: jinja2 in c:\\users\\manjunath\\miniconda3\\envs\\azure_automl\\lib\\site-packages (from rpy2) (2.11.2)\n",
      "Requirement already satisfied: pytz in c:\\users\\manjunath\\miniconda3\\envs\\azure_automl\\lib\\site-packages (from rpy2) (2021.3)\n",
      "Collecting tzlocal\n",
      "  Using cached tzlocal-4.2-py3-none-any.whl (19 kB)\n",
      "Requirement already satisfied: pycparser in c:\\users\\manjunath\\miniconda3\\envs\\azure_automl\\lib\\site-packages (from cffi>=1.10.0->rpy2) (2.21)\n",
      "Requirement already satisfied: MarkupSafe>=0.23 in c:\\users\\manjunath\\miniconda3\\envs\\azure_automl\\lib\\site-packages (from jinja2->rpy2) (2.0.1)\n",
      "Collecting backports.zoneinfo\n",
      "  Downloading backports.zoneinfo-0.2.1-cp36-cp36m-win_amd64.whl (38 kB)\n",
      "Collecting tzdata\n",
      "  Using cached tzdata-2022.1-py2.py3-none-any.whl (339 kB)\n",
      "Collecting pytz-deprecation-shim\n",
      "  Using cached pytz_deprecation_shim-0.1.0.post0-py2.py3-none-any.whl (15 kB)\n",
      "Collecting importlib-resources\n",
      "  Using cached importlib_resources-5.4.0-py3-none-any.whl (28 kB)\n",
      "Requirement already satisfied: zipp>=3.1.0 in c:\\users\\manjunath\\miniconda3\\envs\\azure_automl\\lib\\site-packages (from importlib-resources->backports.zoneinfo->tzlocal->rpy2) (3.6.0)\n",
      "Building wheels for collected packages: rpy2\n",
      "  Building wheel for rpy2 (setup.py): started\n",
      "  Building wheel for rpy2 (setup.py): still running...\n",
      "  Building wheel for rpy2 (setup.py): finished with status 'done'\n",
      "  Created wheel for rpy2: filename=rpy2-3.4.5-py3-none-any.whl size=198862 sha256=e69162f43a4e51abf6c11645875ac1c3bc54bb3f3d86cbcfa9d421b172c222e7\n",
      "  Stored in directory: c:\\users\\manjunath\\appdata\\local\\pip\\cache\\wheels\\f1\\e4\\ba\\e63f5367e1f899195910a01c6c562b634e8391134dbc0790a4\n",
      "Successfully built rpy2\n",
      "Installing collected packages: importlib-resources, tzdata, backports.zoneinfo, pytz-deprecation-shim, tzlocal, rpy2\n",
      "Successfully installed backports.zoneinfo-0.2.1 importlib-resources-5.4.0 pytz-deprecation-shim-0.1.0.post0 rpy2-3.4.5 tzdata-2022.1 tzlocal-4.2\n"
     ]
    },
    {
     "name": "stderr",
     "output_type": "stream",
     "text": [
      "WARNING: Ignoring invalid distribution -atplotlib (c:\\users\\manjunath\\miniconda3\\envs\\azure_automl\\lib\\site-packages)\n",
      "WARNING: Ignoring invalid distribution -atplotlib (c:\\users\\manjunath\\miniconda3\\envs\\azure_automl\\lib\\site-packages)\n",
      "    ERROR: Command errored out with exit status 1:\n",
      "     command: 'C:\\Users\\Manjunath\\miniconda3\\envs\\azure_automl\\python.exe' -c 'import io, os, sys, setuptools, tokenize; sys.argv[0] = '\"'\"'C:\\\\Users\\\\MANJUN~1\\\\AppData\\\\Local\\\\Temp\\\\pip-install-c9j0_i_e\\\\rpy2_e53a2bfb4f8a4cbcbb136c44aaa70acd\\\\setup.py'\"'\"'; __file__='\"'\"'C:\\\\Users\\\\MANJUN~1\\\\AppData\\\\Local\\\\Temp\\\\pip-install-c9j0_i_e\\\\rpy2_e53a2bfb4f8a4cbcbb136c44aaa70acd\\\\setup.py'\"'\"';f = getattr(tokenize, '\"'\"'open'\"'\"', open)(__file__) if os.path.exists(__file__) else io.StringIO('\"'\"'from setuptools import setup; setup()'\"'\"');code = f.read().replace('\"'\"'\\r\\n'\"'\"', '\"'\"'\\n'\"'\"');f.close();exec(compile(code, __file__, '\"'\"'exec'\"'\"'))' egg_info --egg-base 'C:\\Users\\MANJUN~1\\AppData\\Local\\Temp\\pip-pip-egg-info-f5zeyarw'\n",
      "         cwd: C:\\Users\\MANJUN~1\\AppData\\Local\\Temp\\pip-install-c9j0_i_e\\rpy2_e53a2bfb4f8a4cbcbb136c44aaa70acd\\\n",
      "    Complete output (1 lines):\n",
      "    rpy2 is no longer supporting Python < 3.7.Consider using an older rpy2 release when using an older Python release.\n",
      "    ----------------------------------------\n",
      "WARNING: Discarding https://files.pythonhosted.org/packages/9b/5d/44d001cb386d009e228afbc9327ee07dc9ade108a908dc84a6801c093255/rpy2-3.5.3.tar.gz#sha256=53a092d48b44f46428fb30cb3155664d6d2f7af08ebc4c45df98df4c45a42ccb (from https://pypi.org/simple/rpy2/). Command errored out with exit status 1: python setup.py egg_info Check the logs for full command output.\n",
      "    ERROR: Command errored out with exit status 1:\n",
      "     command: 'C:\\Users\\Manjunath\\miniconda3\\envs\\azure_automl\\python.exe' -c 'import io, os, sys, setuptools, tokenize; sys.argv[0] = '\"'\"'C:\\\\Users\\\\MANJUN~1\\\\AppData\\\\Local\\\\Temp\\\\pip-install-c9j0_i_e\\\\rpy2_17c293f8c0f7440facb5d84acf418ad1\\\\setup.py'\"'\"'; __file__='\"'\"'C:\\\\Users\\\\MANJUN~1\\\\AppData\\\\Local\\\\Temp\\\\pip-install-c9j0_i_e\\\\rpy2_17c293f8c0f7440facb5d84acf418ad1\\\\setup.py'\"'\"';f = getattr(tokenize, '\"'\"'open'\"'\"', open)(__file__) if os.path.exists(__file__) else io.StringIO('\"'\"'from setuptools import setup; setup()'\"'\"');code = f.read().replace('\"'\"'\\r\\n'\"'\"', '\"'\"'\\n'\"'\"');f.close();exec(compile(code, __file__, '\"'\"'exec'\"'\"'))' egg_info --egg-base 'C:\\Users\\MANJUN~1\\AppData\\Local\\Temp\\pip-pip-egg-info-t8m2kkf9'\n",
      "         cwd: C:\\Users\\MANJUN~1\\AppData\\Local\\Temp\\pip-install-c9j0_i_e\\rpy2_17c293f8c0f7440facb5d84acf418ad1\\\n",
      "    Complete output (1 lines):\n",
      "    rpy2 is no longer supporting Python < 3.7.Consider using an older rpy2 release when using an older Python release.\n",
      "    ----------------------------------------\n",
      "WARNING: Discarding https://files.pythonhosted.org/packages/ee/2f/392c6fd5fad3cd6f2eda24855e6b53d0b61246da105a77b55acd66c3bddd/rpy2-3.5.2.tar.gz#sha256=45ee00fdbad0b481c39369fb315651ddf854cf4ad56d24b7dcb3c74e135bd10e (from https://pypi.org/simple/rpy2/). Command errored out with exit status 1: python setup.py egg_info Check the logs for full command output.\n",
      "    ERROR: Command errored out with exit status 1:\n",
      "     command: 'C:\\Users\\Manjunath\\miniconda3\\envs\\azure_automl\\python.exe' -c 'import io, os, sys, setuptools, tokenize; sys.argv[0] = '\"'\"'C:\\\\Users\\\\MANJUN~1\\\\AppData\\\\Local\\\\Temp\\\\pip-install-c9j0_i_e\\\\rpy2_db888f5db68a4f218b677e97ffb466e3\\\\setup.py'\"'\"'; __file__='\"'\"'C:\\\\Users\\\\MANJUN~1\\\\AppData\\\\Local\\\\Temp\\\\pip-install-c9j0_i_e\\\\rpy2_db888f5db68a4f218b677e97ffb466e3\\\\setup.py'\"'\"';f = getattr(tokenize, '\"'\"'open'\"'\"', open)(__file__) if os.path.exists(__file__) else io.StringIO('\"'\"'from setuptools import setup; setup()'\"'\"');code = f.read().replace('\"'\"'\\r\\n'\"'\"', '\"'\"'\\n'\"'\"');f.close();exec(compile(code, __file__, '\"'\"'exec'\"'\"'))' egg_info --egg-base 'C:\\Users\\MANJUN~1\\AppData\\Local\\Temp\\pip-pip-egg-info-n8c1idxj'\n",
      "         cwd: C:\\Users\\MANJUN~1\\AppData\\Local\\Temp\\pip-install-c9j0_i_e\\rpy2_db888f5db68a4f218b677e97ffb466e3\\\n",
      "    Complete output (1 lines):\n",
      "    rpy2 is no longer supporting Python < 3.7.Consider using an older rpy2 release when using an older Python release.\n",
      "    ----------------------------------------\n",
      "WARNING: Discarding https://files.pythonhosted.org/packages/82/3b/7258fa09eff9bb64ea09a8a8220a1f845561f0b8af76306924fbe58a2009/rpy2-3.5.1.tar.gz#sha256=d35717489bd0754b556202a6b990ebc6f3a1c18c9c23b3a862a46a91fc265805 (from https://pypi.org/simple/rpy2/). Command errored out with exit status 1: python setup.py egg_info Check the logs for full command output.\n",
      "    ERROR: Command errored out with exit status 1:\n",
      "     command: 'C:\\Users\\Manjunath\\miniconda3\\envs\\azure_automl\\python.exe' -c 'import io, os, sys, setuptools, tokenize; sys.argv[0] = '\"'\"'C:\\\\Users\\\\MANJUN~1\\\\AppData\\\\Local\\\\Temp\\\\pip-install-c9j0_i_e\\\\rpy2_6387c8bfd3814f9ea8eeeed74a526500\\\\setup.py'\"'\"'; __file__='\"'\"'C:\\\\Users\\\\MANJUN~1\\\\AppData\\\\Local\\\\Temp\\\\pip-install-c9j0_i_e\\\\rpy2_6387c8bfd3814f9ea8eeeed74a526500\\\\setup.py'\"'\"';f = getattr(tokenize, '\"'\"'open'\"'\"', open)(__file__) if os.path.exists(__file__) else io.StringIO('\"'\"'from setuptools import setup; setup()'\"'\"');code = f.read().replace('\"'\"'\\r\\n'\"'\"', '\"'\"'\\n'\"'\"');f.close();exec(compile(code, __file__, '\"'\"'exec'\"'\"'))' egg_info --egg-base 'C:\\Users\\MANJUN~1\\AppData\\Local\\Temp\\pip-pip-egg-info-jip7usbm'\n",
      "         cwd: C:\\Users\\MANJUN~1\\AppData\\Local\\Temp\\pip-install-c9j0_i_e\\rpy2_6387c8bfd3814f9ea8eeeed74a526500\\\n",
      "    Complete output (1 lines):\n",
      "    rpy2 is no longer supporting Python < 3.7.Consider using an older rpy2 release when using an older Python release.\n",
      "    ----------------------------------------\n",
      "WARNING: Discarding https://files.pythonhosted.org/packages/a8/e5/e532f7189d852dfefb4f9fe4baa0ac53f180538ac8acec8d30c4be5887c1/rpy2-3.5.0.tar.gz#sha256=4d8a20253320ae3e402ec20d56640772bdc27731bd14f7d0475a95d86e7cd1c7 (from https://pypi.org/simple/rpy2/). Command errored out with exit status 1: python setup.py egg_info Check the logs for full command output.\n",
      "WARNING: Ignoring invalid distribution -atplotlib (c:\\users\\manjunath\\miniconda3\\envs\\azure_automl\\lib\\site-packages)\n",
      "WARNING: Ignoring invalid distribution -atplotlib (c:\\users\\manjunath\\miniconda3\\envs\\azure_automl\\lib\\site-packages)\n",
      "WARNING: Ignoring invalid distribution -atplotlib (c:\\users\\manjunath\\miniconda3\\envs\\azure_automl\\lib\\site-packages)\n",
      "WARNING: Ignoring invalid distribution -atplotlib (c:\\users\\manjunath\\miniconda3\\envs\\azure_automl\\lib\\site-packages)\n",
      "WARNING: Ignoring invalid distribution -atplotlib (c:\\users\\manjunath\\miniconda3\\envs\\azure_automl\\lib\\site-packages)\n",
      "WARNING: Ignoring invalid distribution -atplotlib (c:\\users\\manjunath\\miniconda3\\envs\\azure_automl\\lib\\site-packages)\n",
      "WARNING: Ignoring invalid distribution -atplotlib (c:\\users\\manjunath\\miniconda3\\envs\\azure_automl\\lib\\site-packages)\n",
      "WARNING: Ignoring invalid distribution -atplotlib (c:\\users\\manjunath\\miniconda3\\envs\\azure_automl\\lib\\site-packages)\n",
      "WARNING: Ignoring invalid distribution -atplotlib (c:\\users\\manjunath\\miniconda3\\envs\\azure_automl\\lib\\site-packages)\n",
      "WARNING: Ignoring invalid distribution -atplotlib (c:\\users\\manjunath\\miniconda3\\envs\\azure_automl\\lib\\site-packages)\n"
     ]
    }
   ],
   "source": [
    "# !pip install rpy2"
   ]
  },
  {
   "cell_type": "code",
   "execution_count": 13,
   "metadata": {},
   "outputs": [],
   "source": [
    "import pandas as pd\n",
    "import rpy2.robjects as robjects\n",
    "from rpy2.robjects import pandas2ri\n",
    "from rpy2.robjects.conversion import localconverter"
   ]
  },
  {
   "cell_type": "code",
   "execution_count": 2,
   "metadata": {},
   "outputs": [
    {
     "data": {
      "text/html": [
       "\n",
       "        <span>ListVector with 2 elements.</span>\n",
       "        <table>\n",
       "        <tbody>\n",
       "        \n",
       "          <tr>\n",
       "            <th>\n",
       "            value\n",
       "            </th>\n",
       "            <td>\n",
       "            <rpy2.rinterface.SexpClosure object at 0x0000020DF9C0B888> [RTYPES.CLOSXP]\n",
       "            </td>\n",
       "          </tr>\n",
       "        \n",
       "          <tr>\n",
       "            <th>\n",
       "            visible\n",
       "            </th>\n",
       "            <td>\n",
       "            <rpy2.rinterface.BoolSexpVector object at 0x0000020DF9C0B948> [RTYPES.LGLSXP]\n",
       "            </td>\n",
       "          </tr>\n",
       "        \n",
       "        </tbody>\n",
       "        </table>\n",
       "        "
      ],
      "text/plain": [
       "<rpy2.robjects.vectors.ListVector object at 0x0000020DF9C0B388> [RTYPES.VECSXP]\n",
       "R classes: ('list',)\n",
       "[SexpClosure, BoolSexpVector]\n",
       "  value: <class 'rpy2.rinterface.SexpClosure'>\n",
       "  <rpy2.rinterface.SexpClosure object at 0x0000020DF9BFEAC8> [RTYPES.CLOSXP]\n",
       "  visible: <class 'rpy2.rinterface.BoolSexpVector'>\n",
       "  <rpy2.rinterface.BoolSexpVector object at 0x0000020DF9C0B888> [RTYPES.LGLSXP]"
      ]
     },
     "execution_count": 2,
     "metadata": {},
     "output_type": "execute_result"
    }
   ],
   "source": [
    "# Defining the R script and loading the instance in Python\n",
    "r = robjects.r\n",
    "r['source']('SampleR.r')"
   ]
  },
  {
   "cell_type": "code",
   "execution_count": 7,
   "metadata": {},
   "outputs": [
    {
     "data": {
      "text/plain": [
       "'m:\\\\Python\\\\03_Pandas\\\\Pandas'"
      ]
     },
     "execution_count": 7,
     "metadata": {},
     "output_type": "execute_result"
    }
   ],
   "source": [
    "import os\n",
    "os.getcwd()\n",
    "\n",
    "# os.listdir()"
   ]
  },
  {
   "cell_type": "code",
   "execution_count": 18,
   "metadata": {},
   "outputs": [],
   "source": [
    "# Loading the function we have defined in R.\n",
    "filter_country_function_r = robjects.globalenv['filter_country']"
   ]
  },
  {
   "cell_type": "code",
   "execution_count": 9,
   "metadata": {},
   "outputs": [
    {
     "data": {
      "text/html": [
       "<div>\n",
       "<style scoped>\n",
       "    .dataframe tbody tr th:only-of-type {\n",
       "        vertical-align: middle;\n",
       "    }\n",
       "\n",
       "    .dataframe tbody tr th {\n",
       "        vertical-align: top;\n",
       "    }\n",
       "\n",
       "    .dataframe thead th {\n",
       "        text-align: right;\n",
       "    }\n",
       "</style>\n",
       "<table border=\"1\" class=\"dataframe\">\n",
       "  <thead>\n",
       "    <tr style=\"text-align: right;\">\n",
       "      <th></th>\n",
       "      <th>Country</th>\n",
       "    </tr>\n",
       "  </thead>\n",
       "  <tbody>\n",
       "    <tr>\n",
       "      <th>0</th>\n",
       "      <td>India</td>\n",
       "    </tr>\n",
       "    <tr>\n",
       "      <th>1</th>\n",
       "      <td>USA</td>\n",
       "    </tr>\n",
       "    <tr>\n",
       "      <th>2</th>\n",
       "      <td>Japan</td>\n",
       "    </tr>\n",
       "    <tr>\n",
       "      <th>3</th>\n",
       "      <td>Korea</td>\n",
       "    </tr>\n",
       "  </tbody>\n",
       "</table>\n",
       "</div>"
      ],
      "text/plain": [
       "  Country\n",
       "0   India\n",
       "1     USA\n",
       "2   Japan\n",
       "3   Korea"
      ]
     },
     "execution_count": 9,
     "metadata": {},
     "output_type": "execute_result"
    }
   ],
   "source": [
    "df = pd.read_csv('CountrydataFile.csv')\n",
    "\n",
    "df"
   ]
  },
  {
   "cell_type": "code",
   "execution_count": 21,
   "metadata": {},
   "outputs": [
    {
     "data": {
      "text/html": [
       "\n",
       "        <span>R/rpy2 DataFrame (4 x 1)</span>\n",
       "        <table>\n",
       "          <thead>\n",
       "            <tr>\n",
       "              \n",
       "              <th>Country</th>\n",
       "              \n",
       "            </tr>\n",
       "          </thead>\n",
       "          <tbody>\n",
       "          \n",
       "          <tr>\n",
       "            \n",
       "            <td>\n",
       "              ...\n",
       "            </td>\n",
       "            \n",
       "          </tr>\n",
       "          \n",
       "          </tbody>\n",
       "        </table>\n",
       "    "
      ],
      "text/plain": [
       "<rpy2.robjects.vectors.DataFrame object at 0x0000020DF9EF0048> [RTYPES.VECSXP]\n",
       "R classes: ('data.frame',)\n",
       "[StrSexpVector]\n",
       "  Country: <class 'rpy2.rinterface_lib.sexp.StrSexpVector'>\n",
       "  <rpy2.rinterface_lib.sexp.StrSexpVector object at 0x0000020DF9EF0548> [RTYPES.STRSXP]"
      ]
     },
     "execution_count": 21,
     "metadata": {},
     "output_type": "execute_result"
    }
   ],
   "source": [
    "#converting it into r object for passing into r function\n",
    "\n",
    "\n",
    "with localconverter(robjects.default_converter + pandas2ri.converter):\n",
    "  df_r = robjects.conversion.py2rpy(df)\n",
    "\n",
    "df_r"
   ]
  },
  {
   "cell_type": "code",
   "execution_count": 22,
   "metadata": {},
   "outputs": [],
   "source": [
    "\n",
    "#Invoking the R function and getting the result\n",
    "df_result_r = filter_country_function_r(df_r, 'USA')\n"
   ]
  },
  {
   "cell_type": "code",
   "execution_count": 23,
   "metadata": {},
   "outputs": [
    {
     "data": {
      "text/html": [
       "<div>\n",
       "<style scoped>\n",
       "    .dataframe tbody tr th:only-of-type {\n",
       "        vertical-align: middle;\n",
       "    }\n",
       "\n",
       "    .dataframe tbody tr th {\n",
       "        vertical-align: top;\n",
       "    }\n",
       "\n",
       "    .dataframe thead th {\n",
       "        text-align: right;\n",
       "    }\n",
       "</style>\n",
       "<table border=\"1\" class=\"dataframe\">\n",
       "  <thead>\n",
       "    <tr style=\"text-align: right;\">\n",
       "      <th></th>\n",
       "      <th>Country</th>\n",
       "    </tr>\n",
       "  </thead>\n",
       "  <tbody>\n",
       "    <tr>\n",
       "      <th>1</th>\n",
       "      <td>USA</td>\n",
       "    </tr>\n",
       "  </tbody>\n",
       "</table>\n",
       "</div>"
      ],
      "text/plain": [
       "  Country\n",
       "1     USA"
      ]
     },
     "execution_count": 23,
     "metadata": {},
     "output_type": "execute_result"
    }
   ],
   "source": [
    "# It can be converted to a pandas data frame using the same converter\n",
    "with localconverter(robjects.default_converter + pandas2ri.converter):\n",
    "  df_pdf = robjects.conversion.rpy2py(df_result_r)\n",
    "\n",
    "df_pdf"
   ]
  },
  {
   "cell_type": "code",
   "execution_count": null,
   "metadata": {},
   "outputs": [],
   "source": []
  },
  {
   "cell_type": "code",
   "execution_count": null,
   "metadata": {},
   "outputs": [],
   "source": []
  },
  {
   "cell_type": "code",
   "execution_count": null,
   "metadata": {},
   "outputs": [],
   "source": []
  },
  {
   "cell_type": "code",
   "execution_count": null,
   "metadata": {},
   "outputs": [],
   "source": []
  },
  {
   "cell_type": "code",
   "execution_count": null,
   "metadata": {},
   "outputs": [],
   "source": []
  }
 ],
 "metadata": {
  "kernelspec": {
   "display_name": "Python 3.6.13 ('azure_automl')",
   "language": "python",
   "name": "python3"
  },
  "language_info": {
   "codemirror_mode": {
    "name": "ipython",
    "version": 3
   },
   "file_extension": ".py",
   "mimetype": "text/x-python",
   "name": "python",
   "nbconvert_exporter": "python",
   "pygments_lexer": "ipython3",
   "version": "3.6.13"
  },
  "orig_nbformat": 4,
  "vscode": {
   "interpreter": {
    "hash": "5643318745b79b3beb11ee3e849fa4e896540f2c6aa2c56ebf382350661707b1"
   }
  }
 },
 "nbformat": 4,
 "nbformat_minor": 2
}
